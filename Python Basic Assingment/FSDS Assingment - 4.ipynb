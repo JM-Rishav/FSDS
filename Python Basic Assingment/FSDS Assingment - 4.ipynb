{
 "cells": [
  {
   "cell_type": "markdown",
   "metadata": {},
   "source": [
    "# FSDS Assingment - 4"
   ]
  },
  {
   "cell_type": "markdown",
   "metadata": {},
   "source": [
    "### 1. What exactly is []?"
   ]
  },
  {
   "cell_type": "markdown",
   "metadata": {},
   "source": [
    "[] - these are basically known as square brackets. It can be used to call a list"
   ]
  },
  {
   "cell_type": "code",
   "execution_count": 4,
   "metadata": {},
   "outputs": [
    {
     "data": {
      "text/plain": [
       "list"
      ]
     },
     "execution_count": 4,
     "metadata": {},
     "output_type": "execute_result"
    }
   ],
   "source": [
    "a = []\n",
    "type(a)"
   ]
  },
  {
   "cell_type": "markdown",
   "metadata": {},
   "source": [
    "### 2. In a list of values stored in a variable called spam, how would you assign the value 'hello' as the third value? (Assume [2, 4, 6, 8, 10] are in spam.) "
   ]
  },
  {
   "cell_type": "code",
   "execution_count": 5,
   "metadata": {},
   "outputs": [
    {
     "data": {
      "text/plain": [
       "[2, 4, 'hello', 8, 10]"
      ]
     },
     "execution_count": 5,
     "metadata": {},
     "output_type": "execute_result"
    }
   ],
   "source": [
    "spam = [2,4,6,8,10]\n",
    "spam[2] = 'hello'\n",
    "spam"
   ]
  },
  {
   "cell_type": "markdown",
   "metadata": {},
   "source": [
    "### Let's pretend the spam includes the list ['a', 'b', 'c', 'd'] for the next three queries.\n",
    "\n",
    "### 3. What is the value of spam[int(int('3' * 2) / 11)]?"
   ]
  },
  {
   "cell_type": "code",
   "execution_count": 7,
   "metadata": {},
   "outputs": [
    {
     "data": {
      "text/plain": [
       "8"
      ]
     },
     "execution_count": 7,
     "metadata": {},
     "output_type": "execute_result"
    }
   ],
   "source": [
    "spam[int(int('3'*2)/11)]"
   ]
  },
  {
   "cell_type": "markdown",
   "metadata": {},
   "source": [
    "### 4. What is the value of spam[-1]?"
   ]
  },
  {
   "cell_type": "code",
   "execution_count": 9,
   "metadata": {},
   "outputs": [
    {
     "data": {
      "text/plain": [
       "10"
      ]
     },
     "execution_count": 9,
     "metadata": {},
     "output_type": "execute_result"
    }
   ],
   "source": [
    "spam[-1]"
   ]
  },
  {
   "cell_type": "markdown",
   "metadata": {},
   "source": [
    "### 5. What is the value of spam[:2]?"
   ]
  },
  {
   "cell_type": "code",
   "execution_count": 10,
   "metadata": {},
   "outputs": [
    {
     "data": {
      "text/plain": [
       "[2, 4]"
      ]
     },
     "execution_count": 10,
     "metadata": {},
     "output_type": "execute_result"
    }
   ],
   "source": [
    "spam[:2]"
   ]
  },
  {
   "cell_type": "markdown",
   "metadata": {},
   "source": [
    "### Let's pretend bacon has the list [3.14, 'cat,' 11, 'cat,' True] for the next three questions.\n",
    "\n",
    "### 6. What is the value of bacon.index('cat')?"
   ]
  },
  {
   "cell_type": "code",
   "execution_count": 11,
   "metadata": {},
   "outputs": [
    {
     "data": {
      "text/plain": [
       "1"
      ]
     },
     "execution_count": 11,
     "metadata": {},
     "output_type": "execute_result"
    }
   ],
   "source": [
    "bacon = [3.14,'cat',11,'cat',True]\n",
    "\n",
    "# it will show the first one that it catches in the list\n",
    "bacon.index('cat') "
   ]
  },
  {
   "cell_type": "markdown",
   "metadata": {},
   "source": [
    "### 7. How does bacon.append(99) change the look of the list value in bacon?"
   ]
  },
  {
   "cell_type": "code",
   "execution_count": 12,
   "metadata": {},
   "outputs": [
    {
     "data": {
      "text/plain": [
       "[3.14, 'cat', 11, 'cat', True, 99]"
      ]
     },
     "execution_count": 12,
     "metadata": {},
     "output_type": "execute_result"
    }
   ],
   "source": [
    "# It will just add 99 to the last of the list.\n",
    "bacon.append(99)\n",
    "bacon"
   ]
  },
  {
   "cell_type": "markdown",
   "metadata": {},
   "source": [
    "### 8. How does bacon.remove('cat') change the look of the list in bacon?"
   ]
  },
  {
   "cell_type": "code",
   "execution_count": 13,
   "metadata": {},
   "outputs": [
    {
     "data": {
      "text/plain": [
       "[3.14, 11, 'cat', True, 99]"
      ]
     },
     "execution_count": 13,
     "metadata": {},
     "output_type": "execute_result"
    }
   ],
   "source": [
    "# bacon.remove('cat') will just remove the first one it encounter !\n",
    "\n",
    "#def remove_items(test_list, item):\n",
    "#    res = [i for i in test_list if i != item]\n",
    "#  \n",
    "#    return res\n",
    "\n",
    "#def remove_items(test_list, item):\n",
    "#    for i in test_list:\n",
    "#        if(i == item):\n",
    "#            test_list.remove(i)\n",
    "#  \n",
    "#    return test_list\n",
    "\n",
    "bacon.remove('cat')\n",
    "bacon"
   ]
  },
  {
   "cell_type": "markdown",
   "metadata": {},
   "source": [
    "### 9. What are the list concatenation and list replication operators?"
   ]
  },
  {
   "cell_type": "markdown",
   "metadata": {},
   "source": [
    "###### List concatenation operations :- Put simply a way to concatenate 2 or more list.\n",
    "\n",
    "\n",
    "###### List replication operations :- Put simply a way to copy or cloning the list\n"
   ]
  },
  {
   "cell_type": "code",
   "execution_count": 6,
   "metadata": {},
   "outputs": [
    {
     "name": "stdout",
     "output_type": "stream",
     "text": [
      "[1, 2, 3, 4, 5, 6, 7, 8, 9]\n"
     ]
    }
   ],
   "source": [
    "# using list concatenation operations\n",
    "# 1. using naive method\n",
    "# 2. using + operator\n",
    "# 3. using extend()\n",
    "# 4. using * operator\n",
    "# 5. using itertools.chain()\n",
    "\n",
    "#1 using append method\n",
    "a = [1,2,3,4]\n",
    "b = [5,6,7,8,9]\n",
    "\n",
    "for i in b:\n",
    "    a.append(i)\n",
    "    \n",
    "print(''+str(a))\n"
   ]
  },
  {
   "cell_type": "code",
   "execution_count": 8,
   "metadata": {},
   "outputs": [
    {
     "name": "stdout",
     "output_type": "stream",
     "text": [
      "[1, 2, 3, 4, 5, 6, 7, 8, 9]\n"
     ]
    }
   ],
   "source": [
    "#2 using + operator\n",
    "a = [1,2,3,4]\n",
    "b = [5,6,7,8,9]\n",
    "print(a+b)"
   ]
  },
  {
   "cell_type": "code",
   "execution_count": 17,
   "metadata": {},
   "outputs": [
    {
     "name": "stdout",
     "output_type": "stream",
     "text": [
      "[1, 2, 3, 4, 5, 6, 7, 8, 9]\n"
     ]
    }
   ],
   "source": [
    "#3 using extend()\n",
    "a = [1,2,3,4]\n",
    "b = [5,6,7,8,9]\n",
    "a.extend(b)\n",
    "print(''+str(a))"
   ]
  },
  {
   "cell_type": "code",
   "execution_count": 19,
   "metadata": {},
   "outputs": [
    {
     "name": "stdout",
     "output_type": "stream",
     "text": [
      "[1, 2, 3, 4, 5, 6, 7, 8, 9]\n"
     ]
    }
   ],
   "source": [
    "#4 using * operator\n",
    "a = [1,2,3,4]\n",
    "b = [5,6,7,8,9]\n",
    "c = [*a,*b]\n",
    "print(''+str(c))"
   ]
  },
  {
   "cell_type": "code",
   "execution_count": 20,
   "metadata": {},
   "outputs": [
    {
     "name": "stdout",
     "output_type": "stream",
     "text": [
      "[1, 2, 3, 4, 5, 6, 7, 8, 9]\n"
     ]
    }
   ],
   "source": [
    "#5 using itertools.chain()\n",
    "import itertools\n",
    "a = [1,2,3,4]\n",
    "b = [5,6,7,8,9]\n",
    "print(list(itertools.chain(a,b)))"
   ]
  },
  {
   "cell_type": "code",
   "execution_count": 21,
   "metadata": {},
   "outputs": [],
   "source": [
    "# using list replication operations\n",
    "# 1. using slicing\n",
    "# 2. using extend\n",
    "# 3. using list\n",
    "# 4. shallow copy\n",
    "# 5. list comprehension \n",
    "# 6. append()\n",
    "# 7. copy()\n",
    "# 8. deep copy"
   ]
  },
  {
   "cell_type": "code",
   "execution_count": 24,
   "metadata": {},
   "outputs": [
    {
     "name": "stdout",
     "output_type": "stream",
     "text": [
      "original [1, 2, 3, 4]\n",
      "copy [1, 2, 3, 4]\n"
     ]
    }
   ],
   "source": [
    "# using slicing\n",
    "def clone(a):\n",
    "    b = a[:]\n",
    "    return b\n",
    "a = [1,2,3,4]\n",
    "b = clone(a)\n",
    "print('original',a)\n",
    "print('copy', b)"
   ]
  },
  {
   "cell_type": "code",
   "execution_count": 26,
   "metadata": {},
   "outputs": [
    {
     "name": "stdout",
     "output_type": "stream",
     "text": [
      "original [1, 2, 3, 4, 5]\n",
      "copy [1, 2, 3, 4, 5]\n"
     ]
    }
   ],
   "source": [
    "# using extend\n",
    "def clone(a):\n",
    "    b = []\n",
    "    b.extend(a)\n",
    "    return b\n",
    "\n",
    "a = [1,2,3,4,5]\n",
    "b = clone(a)\n",
    "print('original',a)\n",
    "print('copy', b)"
   ]
  },
  {
   "cell_type": "code",
   "execution_count": 27,
   "metadata": {},
   "outputs": [
    {
     "name": "stdout",
     "output_type": "stream",
     "text": [
      "original [1, 2, 3, 4]\n",
      "copy [1, 2, 3, 4]\n"
     ]
    }
   ],
   "source": [
    "# using list\n",
    "def clone(a):\n",
    "    b = list(a)\n",
    "    return b\n",
    "\n",
    "a = [1,2,3,4]\n",
    "b = clone(a)\n",
    "print('original',a)\n",
    "print('copy', b)"
   ]
  },
  {
   "cell_type": "code",
   "execution_count": 28,
   "metadata": {},
   "outputs": [
    {
     "name": "stdout",
     "output_type": "stream",
     "text": [
      "original [1, 2, 3, 4]\n",
      "copy [1, 2, 3, 4]\n"
     ]
    }
   ],
   "source": [
    "# using shallow copy\n",
    "import copy\n",
    "\n",
    "a = [1,2,3,4]\n",
    "b = copy.copy(a)\n",
    "print('original',a)\n",
    "print('copy', b)"
   ]
  },
  {
   "cell_type": "code",
   "execution_count": 29,
   "metadata": {},
   "outputs": [
    {
     "name": "stdout",
     "output_type": "stream",
     "text": [
      "original [1, 2, 3, 4]\n",
      "copy [1, 2, 3, 4]\n"
     ]
    }
   ],
   "source": [
    "# using list comprehension\n",
    "def clone(a):\n",
    "    b = [i for i in a]\n",
    "    return b\n",
    "\n",
    "a = [1,2,3,4]\n",
    "b = clone(a)\n",
    "print('original',a)\n",
    "print('copy', b)"
   ]
  },
  {
   "cell_type": "code",
   "execution_count": 31,
   "metadata": {},
   "outputs": [
    {
     "name": "stdout",
     "output_type": "stream",
     "text": [
      "original [1, 2, 4, 5, 6, 7, 3, 5]\n",
      "copy [1, 2, 4, 5, 6, 7, 3, 5]\n"
     ]
    }
   ],
   "source": [
    "# using append()\n",
    "def clone(a):\n",
    "    b = []\n",
    "    for i in a:\n",
    "        b.append(i)\n",
    "    return b\n",
    "\n",
    "a = [1,2,4,5,6,7,3,5]\n",
    "b = clone(a)\n",
    "print('original',a)\n",
    "print('copy', b)"
   ]
  },
  {
   "cell_type": "code",
   "execution_count": 33,
   "metadata": {},
   "outputs": [
    {
     "name": "stdout",
     "output_type": "stream",
     "text": [
      "original [1, 2, 3, 4, 9, 3, 5, 3, 2, 4, 5, 72, 243, 532, 52, 623, 454, 24, 2335]\n",
      "copy [1, 2, 3, 4, 9, 3, 5, 3, 2, 4, 5, 72, 243, 532, 52, 623, 454, 24, 2335]\n"
     ]
    }
   ],
   "source": [
    "# using copy()\n",
    "a = [1,2,3,4,9,3,5,3,2,4,5,72,243,532,52,623,454,24,2335]\n",
    "b = a.copy()\n",
    "print('original',a)\n",
    "print('copy', b)"
   ]
  },
  {
   "cell_type": "code",
   "execution_count": 36,
   "metadata": {},
   "outputs": [
    {
     "name": "stdout",
     "output_type": "stream",
     "text": [
      "original [1, 2, 4]\n",
      "copy [1, 2, 4]\n"
     ]
    }
   ],
   "source": [
    "# using deep copy\n",
    "import copy\n",
    "\n",
    "a = [1,2,4]\n",
    "b = copy.deepcopy(a)\n",
    "print('original',a)\n",
    "print('copy', b)"
   ]
  },
  {
   "cell_type": "markdown",
   "metadata": {},
   "source": [
    "### 10. What is difference between the list methods append() and insert()?\n",
    "\n",
    "The difference is that with append, you just add a new entry at the end of the list. With insert(position, new_entry) you can create a new entry exactly in the position you want.\n"
   ]
  },
  {
   "cell_type": "markdown",
   "metadata": {},
   "source": [
    "###  11. What are the two methods for removing items from a list?\n",
    "\n",
    "One can use pop and remove methods to remove an item from the list."
   ]
  },
  {
   "cell_type": "markdown",
   "metadata": {},
   "source": [
    "### 12. Describe how list values and string values are identical.\n",
    "\n",
    "Lists are similar to strings, which are ordered collections of characters, except that the elements of a list can have any type and for any one list, the items can be of different types"
   ]
  },
  {
   "cell_type": "markdown",
   "metadata": {},
   "source": [
    "### 13. What's the difference between tuples and lists?\n",
    "\n",
    "lists are mutable but tuples are immutable. which simply means the values can be modified if mutable and not if immutable."
   ]
  },
  {
   "cell_type": "markdown",
   "metadata": {},
   "source": [
    "### 14. How do you type a tuple value that only contains the integer 42?"
   ]
  },
  {
   "cell_type": "code",
   "execution_count": 3,
   "metadata": {},
   "outputs": [
    {
     "name": "stdout",
     "output_type": "stream",
     "text": [
      "<class 'tuple'>\n"
     ]
    },
    {
     "data": {
      "text/plain": [
       "(42,)"
      ]
     },
     "execution_count": 3,
     "metadata": {},
     "output_type": "execute_result"
    }
   ],
   "source": [
    "a = (42,)\n",
    "print(type(a))\n",
    "a\n"
   ]
  },
  {
   "cell_type": "markdown",
   "metadata": {},
   "source": [
    "### 15. How do you get a list value's tuple form? How do you get a tuple value's list form?"
   ]
  },
  {
   "cell_type": "code",
   "execution_count": 6,
   "metadata": {},
   "outputs": [
    {
     "data": {
      "text/plain": [
       "tuple"
      ]
     },
     "execution_count": 6,
     "metadata": {},
     "output_type": "execute_result"
    }
   ],
   "source": [
    "a = (23,34,'dfa',543)\n",
    "a\n",
    "type(a)"
   ]
  },
  {
   "cell_type": "code",
   "execution_count": 11,
   "metadata": {},
   "outputs": [
    {
     "name": "stdout",
     "output_type": "stream",
     "text": [
      "<class 'list'>\n"
     ]
    },
    {
     "data": {
      "text/plain": [
       "[23, 34, 'dfa', 543]"
      ]
     },
     "execution_count": 11,
     "metadata": {},
     "output_type": "execute_result"
    }
   ],
   "source": [
    "b = list(a)\n",
    "print(type(b))\n",
    "b"
   ]
  },
  {
   "cell_type": "code",
   "execution_count": 12,
   "metadata": {},
   "outputs": [
    {
     "data": {
      "text/plain": [
       "list"
      ]
     },
     "execution_count": 12,
     "metadata": {},
     "output_type": "execute_result"
    }
   ],
   "source": [
    "a1 = [23,56775,'john',9990]\n",
    "type(a1)"
   ]
  },
  {
   "cell_type": "code",
   "execution_count": 14,
   "metadata": {},
   "outputs": [
    {
     "name": "stdout",
     "output_type": "stream",
     "text": [
      "<class 'tuple'>\n"
     ]
    },
    {
     "data": {
      "text/plain": [
       "(23, 56775, 'john', 9990)"
      ]
     },
     "execution_count": 14,
     "metadata": {},
     "output_type": "execute_result"
    }
   ],
   "source": [
    "b1 = tuple(a1)\n",
    "print(type(b1))\n",
    "b1"
   ]
  },
  {
   "cell_type": "markdown",
   "metadata": {},
   "source": [
    "### 16. Variables that \"contain\" list values are not necessarily lists themselves. Instead, what do they contain?\n",
    "\n",
    "well, variables will contain the references to list values rather than list values themselves. But for strings and integer values, variables simply contain the string or integer value."
   ]
  },
  {
   "cell_type": "markdown",
   "metadata": {},
   "source": [
    "### 17. How do you distinguish between copy.copy() and copy.deepcopy()?\n",
    "\n",
    "Shallow Copy reflects changes made to the new/copied object in the original object. Deep copy doesn't reflect changes made to the new/copied object in the original object.\n",
    "\n",
    "A shallow copy inserts references into it to the objects found in the original.\n",
    "\n",
    "Deep copy stores the copy of the original object and recursively copies the objects as well."
   ]
  },
  {
   "cell_type": "code",
   "execution_count": null,
   "metadata": {},
   "outputs": [],
   "source": []
  },
  {
   "cell_type": "code",
   "execution_count": null,
   "metadata": {},
   "outputs": [],
   "source": []
  }
 ],
 "metadata": {
  "kernelspec": {
   "display_name": "Python 3",
   "language": "python",
   "name": "python3"
  },
  "language_info": {
   "codemirror_mode": {
    "name": "ipython",
    "version": 3
   },
   "file_extension": ".py",
   "mimetype": "text/x-python",
   "name": "python",
   "nbconvert_exporter": "python",
   "pygments_lexer": "ipython3",
   "version": "3.7.4"
  }
 },
 "nbformat": 4,
 "nbformat_minor": 2
}
