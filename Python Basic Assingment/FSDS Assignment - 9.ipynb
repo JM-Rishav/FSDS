{
 "cells": [
  {
   "cell_type": "markdown",
   "metadata": {},
   "source": [
    "# FSDS Assignment - 9"
   ]
  },
  {
   "cell_type": "markdown",
   "metadata": {},
   "source": [
    "### 1. To what does a relative path refer?"
   ]
  },
  {
   "cell_type": "markdown",
   "metadata": {},
   "source": [
    "The relative path is the path to some file with respect to your current working directory (PWD). \n",
    "\n",
    "For example: \n",
    "\n",
    "Absolute path: C:/users/admin/docs/stuff.txt. \n",
    "\n",
    "If my PWD is C:/users/admin/ , then the relative path to stuff.txt would be: docs/stuff.txt. \n",
    "\n",
    "Note, PWD + relative path = absolute path."
   ]
  },
  {
   "cell_type": "markdown",
   "metadata": {},
   "source": [
    "### 2. What does an absolute path start with your operating system?"
   ]
  },
  {
   "cell_type": "markdown",
   "metadata": {},
   "source": [
    "An absolute path refers to the complete details needed to locate a file or folder, starting from the root element and ending with the other subdirectories. \n",
    "\n",
    "Absolute paths are used in websites and operating systems for locating files and folders. An absolute path is also known as an absolute pathname or full path."
   ]
  },
  {
   "cell_type": "markdown",
   "metadata": {},
   "source": [
    "### 3. What do the functions os.getcwd() and os.chdir() do?"
   ]
  },
  {
   "cell_type": "markdown",
   "metadata": {},
   "source": [
    "getcwd() : CWD stands for Current Working Directory. This function allows you to see what your current working directory is. \n",
    "\n",
    "chdir(\"path-to-dir\") : Short for CHange DIRectory, this function allows you to set the current working directory to a path of your choice."
   ]
  },
  {
   "cell_type": "code",
   "execution_count": 4,
   "metadata": {},
   "outputs": [
    {
     "data": {
      "text/plain": [
       "'D:\\\\Anaconda\\\\Working Diretory'"
      ]
     },
     "execution_count": 4,
     "metadata": {},
     "output_type": "execute_result"
    }
   ],
   "source": [
    "import os\n",
    "\n",
    "os.getcwd()"
   ]
  },
  {
   "cell_type": "markdown",
   "metadata": {},
   "source": [
    "### 4. What are the . and .. folders?"
   ]
  },
  {
   "cell_type": "markdown",
   "metadata": {},
   "source": [
    "The . is the current directory, while .. signifies the parent directory."
   ]
  },
  {
   "cell_type": "markdown",
   "metadata": {},
   "source": [
    "### 5. In C:\\bacon\\eggs\\spam.txt, which part is the dir name, and which part is the base name?"
   ]
  },
  {
   "cell_type": "markdown",
   "metadata": {},
   "source": [
    "In C:\\bacon\\eggs\\spam.txt\n",
    "\n",
    "C:\\bacon\\eggs\\ - is dir name\n",
    "\n",
    "spam.txt - is base name"
   ]
  },
  {
   "cell_type": "markdown",
   "metadata": {},
   "source": [
    "### 6. What are the three “mode” arguments that can be passed to the open() function?"
   ]
  },
  {
   "cell_type": "markdown",
   "metadata": {},
   "source": [
    "The access modes available for the open() function are as follows:\n",
    "\n",
    "r : Opens the file in read-only mode.\n",
    "\n",
    "rb : Opens the file as read-only in binary format and starts reading from the beginning of the file.\n",
    "\n",
    "r+ : Opens a file for reading and writing, placing the pointer at the beginning of the file."
   ]
  },
  {
   "cell_type": "markdown",
   "metadata": {},
   "source": [
    "### 7. What happens if an existing file is opened in write mode?"
   ]
  },
  {
   "cell_type": "markdown",
   "metadata": {},
   "source": [
    "fopen() for an existing file in write mode.\n",
    "\n",
    "To open a file in write mode, “w” is specified. When mode “w” is specified, it creates an empty file for output operations. What if the file already exists? If a file with the same name already exists, its contents are discarded and the file is treated as a new empty file."
   ]
  },
  {
   "cell_type": "markdown",
   "metadata": {},
   "source": [
    "### 8. How do you tell the difference between read() and readlines()?"
   ]
  },
  {
   "cell_type": "markdown",
   "metadata": {},
   "source": [
    "read() - reads the entire contents of the file into a string.\n",
    "\n",
    "readlines() - returns a list of lines (strings)."
   ]
  },
  {
   "cell_type": "markdown",
   "metadata": {},
   "source": [
    "### 9. What data structure does a shelf value resemble?"
   ]
  },
  {
   "cell_type": "markdown",
   "metadata": {},
   "source": [
    "A shelf value resembles a dictionary value. It has keys and values, along with keys() and values() methods that work similarly to the dictionary methods of the same names"
   ]
  },
  {
   "cell_type": "code",
   "execution_count": null,
   "metadata": {},
   "outputs": [],
   "source": []
  }
 ],
 "metadata": {
  "kernelspec": {
   "display_name": "Python 3",
   "language": "python",
   "name": "python3"
  },
  "language_info": {
   "codemirror_mode": {
    "name": "ipython",
    "version": 3
   },
   "file_extension": ".py",
   "mimetype": "text/x-python",
   "name": "python",
   "nbconvert_exporter": "python",
   "pygments_lexer": "ipython3",
   "version": "3.7.4"
  }
 },
 "nbformat": 4,
 "nbformat_minor": 2
}
