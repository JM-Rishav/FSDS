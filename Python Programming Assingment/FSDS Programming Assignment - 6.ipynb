{
 "cells": [
  {
   "cell_type": "markdown",
   "metadata": {},
   "source": [
    "# FSDS Programming Assignment - 6"
   ]
  },
  {
   "cell_type": "markdown",
   "metadata": {},
   "source": [
    "### 1. Write a python program to display Fibonacci Sequece Using Recursion?"
   ]
  },
  {
   "cell_type": "code",
   "execution_count": 5,
   "metadata": {},
   "outputs": [
    {
     "name": "stdout",
     "output_type": "stream",
     "text": [
      "5\n",
      "0\n",
      "1\n",
      "1\n",
      "2\n",
      "3\n"
     ]
    }
   ],
   "source": [
    "# 0,1,1,2,3,5,8.......\n",
    "\n",
    "def recursion(a):\n",
    "    # first two terms\n",
    "    n1, n2 = 0, 1\n",
    "    count = 0\n",
    "    # check if the number of terms is valid\n",
    "    if n<= 0:\n",
    "       print(\"invalid\")\n",
    "    # if there is only one term, return n1\n",
    "    elif n == 1:\n",
    "       print(n1)\n",
    "    # generate fibonacci sequence\n",
    "    else:\n",
    "       while count < n:\n",
    "           print(n1)\n",
    "           nth = n1 + n2\n",
    "           # update values\n",
    "           n1 = n2\n",
    "           n2 = nth\n",
    "           count += 1\n",
    "\n",
    "n = int(input())\n",
    "recursion(n)"
   ]
  },
  {
   "cell_type": "markdown",
   "metadata": {},
   "source": [
    "### 2. Write a Python program to Find Factorial of Number using Recursion?"
   ]
  },
  {
   "cell_type": "code",
   "execution_count": 6,
   "metadata": {},
   "outputs": [
    {
     "name": "stdout",
     "output_type": "stream",
     "text": [
      "5\n"
     ]
    },
    {
     "data": {
      "text/plain": [
       "120"
      ]
     },
     "execution_count": 6,
     "metadata": {},
     "output_type": "execute_result"
    }
   ],
   "source": [
    "import math\n",
    "\n",
    "def fact(n):\n",
    "    return (math.factorial(n))\n",
    "\n",
    "m = int(input())\n",
    "fact(m)"
   ]
  },
  {
   "cell_type": "code",
   "execution_count": 28,
   "metadata": {},
   "outputs": [
    {
     "name": "stdout",
     "output_type": "stream",
     "text": [
      "5\n"
     ]
    },
    {
     "data": {
      "text/plain": [
       "120"
      ]
     },
     "execution_count": 28,
     "metadata": {},
     "output_type": "execute_result"
    }
   ],
   "source": [
    "# import sys\n",
    "# print(sys.getrecursionlimit())\n",
    "# sys.setrecursionlimit(3500)\n",
    "\n",
    "# if (m == 0) or (m == 1) else n * fact(n-1)\n",
    "\n",
    "def fact(m):\n",
    "    if (m == 0) or (m == 1):\n",
    "        return 1\n",
    "    else:\n",
    "        fact = 1\n",
    "        while(m>1):\n",
    "            fact *= m\n",
    "            m -= 1\n",
    "        return fact\n",
    "\n",
    "num = int(input())\n",
    "fact(num)\n"
   ]
  },
  {
   "cell_type": "markdown",
   "metadata": {},
   "source": [
    "### 3. Write a Python program to calculate your body mass index?"
   ]
  },
  {
   "cell_type": "code",
   "execution_count": 32,
   "metadata": {},
   "outputs": [
    {
     "name": "stdout",
     "output_type": "stream",
     "text": [
      "50 180\n"
     ]
    },
    {
     "data": {
      "text/plain": [
       "15.432098765432098"
      ]
     },
     "execution_count": 32,
     "metadata": {},
     "output_type": "execute_result"
    }
   ],
   "source": [
    "# Convert your weight from pounds to kilograms. Your weight (in pounds) ÷ 2.2 = your weight (in kilograms). ...\n",
    "# Convert your height from inches to meters. Your height (in inches) ÷ 39.37 = your height (in meters). ...\n",
    "# Calculate your Body Mass Index.\n",
    "# BMI is weight in kilograms divided by height in meters squared\n",
    "\n",
    "def BMI(n,m):\n",
    "    # convert inches to meter\n",
    "    cm_to_meter = m/100\n",
    "    result = n/cm_to_meter**2\n",
    "    return result\n",
    "\n",
    "x, y = map(int,input().split())\n",
    "BMI(x,y)"
   ]
  },
  {
   "cell_type": "markdown",
   "metadata": {},
   "source": [
    "### 4. Write a Python program to calculate the Natural Logarithm of any Number?"
   ]
  },
  {
   "cell_type": "code",
   "execution_count": 35,
   "metadata": {},
   "outputs": [
    {
     "name": "stdout",
     "output_type": "stream",
     "text": [
      "3\n"
     ]
    },
    {
     "data": {
      "text/plain": [
       "1.0986122886681098"
      ]
     },
     "execution_count": 35,
     "metadata": {},
     "output_type": "execute_result"
    }
   ],
   "source": [
    "import numpy as np\n",
    "\n",
    "def Nlog(n):\n",
    "    return np.log(n)\n",
    "\n",
    "m = int(input())\n",
    "Nlog(m)"
   ]
  },
  {
   "cell_type": "markdown",
   "metadata": {},
   "source": [
    "### 5. Write a Python program for Cube Sum of First N natural numbers?"
   ]
  },
  {
   "cell_type": "code",
   "execution_count": 38,
   "metadata": {},
   "outputs": [
    {
     "name": "stdout",
     "output_type": "stream",
     "text": [
      "5\n",
      "1\n",
      "8\n",
      "27\n",
      "64\n",
      "125\n"
     ]
    },
    {
     "data": {
      "text/plain": [
       "225"
      ]
     },
     "execution_count": 38,
     "metadata": {},
     "output_type": "execute_result"
    }
   ],
   "source": [
    "def Cube_sum_of_natural_no(n):\n",
    "    sum = 0\n",
    "    for i in range(1, n+1):\n",
    "        print(i*i*i)\n",
    "        sum +=i*i*i\n",
    "          \n",
    "    return sum\n",
    "\n",
    "m = int(input())\n",
    "Cube_sum_of_natural_no(m)"
   ]
  },
  {
   "cell_type": "code",
   "execution_count": null,
   "metadata": {},
   "outputs": [],
   "source": []
  },
  {
   "cell_type": "code",
   "execution_count": null,
   "metadata": {},
   "outputs": [],
   "source": []
  }
 ],
 "metadata": {
  "kernelspec": {
   "display_name": "Python 3",
   "language": "python",
   "name": "python3"
  },
  "language_info": {
   "codemirror_mode": {
    "name": "ipython",
    "version": 3
   },
   "file_extension": ".py",
   "mimetype": "text/x-python",
   "name": "python",
   "nbconvert_exporter": "python",
   "pygments_lexer": "ipython3",
   "version": "3.7.4"
  }
 },
 "nbformat": 4,
 "nbformat_minor": 2
}
